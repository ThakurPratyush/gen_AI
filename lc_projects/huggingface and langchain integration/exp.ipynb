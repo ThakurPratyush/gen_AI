{
 "cells": [
  {
   "cell_type": "markdown",
   "metadata": {},
   "source": [
    "### Hugging Face x LangChain : A new partner package in LangChain\n",
    "langchain_huggingface, a partner package in LangChain jointly maintained by Hugging Face and LangChain. This new Python package is designed to bring the power of the latest development of Hugging Face into LangChain and keep it up to date."
   ]
  },
  {
   "cell_type": "code",
   "execution_count": 37,
   "metadata": {},
   "outputs": [
    {
     "name": "stdout",
     "output_type": "stream",
     "text": [
      "Requirement already satisfied: langchain_huggingface in c:\\users\\thaku\\downloads\\m23\\ann_class_pro\\annenv\\lib\\site-packages (0.1.0)\n",
      "Requirement already satisfied: huggingface-hub>=0.23.0 in c:\\users\\thaku\\downloads\\m23\\ann_class_pro\\annenv\\lib\\site-packages (from langchain_huggingface) (0.26.0)\n",
      "Requirement already satisfied: langchain-core<0.4,>=0.3.0 in c:\\users\\thaku\\downloads\\m23\\ann_class_pro\\annenv\\lib\\site-packages (from langchain_huggingface) (0.3.12)\n",
      "Requirement already satisfied: sentence-transformers>=2.6.0 in c:\\users\\thaku\\downloads\\m23\\ann_class_pro\\annenv\\lib\\site-packages (from langchain_huggingface) (3.2.0)\n",
      "Requirement already satisfied: tokenizers>=0.19.1 in c:\\users\\thaku\\downloads\\m23\\ann_class_pro\\annenv\\lib\\site-packages (from langchain_huggingface) (0.20.1)\n",
      "Requirement already satisfied: transformers>=4.39.0 in c:\\users\\thaku\\downloads\\m23\\ann_class_pro\\annenv\\lib\\site-packages (from langchain_huggingface) (4.45.2)\n",
      "Requirement already satisfied: filelock in c:\\users\\thaku\\downloads\\m23\\ann_class_pro\\annenv\\lib\\site-packages (from huggingface-hub>=0.23.0->langchain_huggingface) (3.16.1)\n",
      "Requirement already satisfied: fsspec>=2023.5.0 in c:\\users\\thaku\\downloads\\m23\\ann_class_pro\\annenv\\lib\\site-packages (from huggingface-hub>=0.23.0->langchain_huggingface) (2024.9.0)\n",
      "Requirement already satisfied: packaging>=20.9 in c:\\users\\thaku\\downloads\\m23\\ann_class_pro\\annenv\\lib\\site-packages (from huggingface-hub>=0.23.0->langchain_huggingface) (24.1)\n",
      "Requirement already satisfied: pyyaml>=5.1 in c:\\users\\thaku\\downloads\\m23\\ann_class_pro\\annenv\\lib\\site-packages (from huggingface-hub>=0.23.0->langchain_huggingface) (6.0.1)\n",
      "Requirement already satisfied: requests in c:\\users\\thaku\\downloads\\m23\\ann_class_pro\\annenv\\lib\\site-packages (from huggingface-hub>=0.23.0->langchain_huggingface) (2.32.3)\n",
      "Requirement already satisfied: tqdm>=4.42.1 in c:\\users\\thaku\\downloads\\m23\\ann_class_pro\\annenv\\lib\\site-packages (from huggingface-hub>=0.23.0->langchain_huggingface) (4.66.5)\n",
      "Requirement already satisfied: typing-extensions>=3.7.4.3 in c:\\users\\thaku\\downloads\\m23\\ann_class_pro\\annenv\\lib\\site-packages (from huggingface-hub>=0.23.0->langchain_huggingface) (4.12.2)\n",
      "Requirement already satisfied: jsonpatch<2.0,>=1.33 in c:\\users\\thaku\\downloads\\m23\\ann_class_pro\\annenv\\lib\\site-packages (from langchain-core<0.4,>=0.3.0->langchain_huggingface) (1.33)\n",
      "Requirement already satisfied: langsmith<0.2.0,>=0.1.125 in c:\\users\\thaku\\downloads\\m23\\ann_class_pro\\annenv\\lib\\site-packages (from langchain-core<0.4,>=0.3.0->langchain_huggingface) (0.1.132)\n",
      "Requirement already satisfied: pydantic<3.0.0,>=2.5.2 in c:\\users\\thaku\\downloads\\m23\\ann_class_pro\\annenv\\lib\\site-packages (from langchain-core<0.4,>=0.3.0->langchain_huggingface) (2.9.2)\n",
      "Requirement already satisfied: tenacity!=8.4.0,<10.0.0,>=8.1.0 in c:\\users\\thaku\\downloads\\m23\\ann_class_pro\\annenv\\lib\\site-packages (from langchain-core<0.4,>=0.3.0->langchain_huggingface) (8.5.0)\n",
      "Requirement already satisfied: torch>=1.11.0 in c:\\users\\thaku\\downloads\\m23\\ann_class_pro\\annenv\\lib\\site-packages (from sentence-transformers>=2.6.0->langchain_huggingface) (2.5.0)\n",
      "Requirement already satisfied: scikit-learn in c:\\users\\thaku\\downloads\\m23\\ann_class_pro\\annenv\\lib\\site-packages (from sentence-transformers>=2.6.0->langchain_huggingface) (1.5.1)\n",
      "Requirement already satisfied: scipy in c:\\users\\thaku\\downloads\\m23\\ann_class_pro\\annenv\\lib\\site-packages (from sentence-transformers>=2.6.0->langchain_huggingface) (1.14.1)\n",
      "Requirement already satisfied: Pillow in c:\\users\\thaku\\downloads\\m23\\ann_class_pro\\annenv\\lib\\site-packages (from sentence-transformers>=2.6.0->langchain_huggingface) (10.4.0)\n",
      "Requirement already satisfied: numpy>=1.17 in c:\\users\\thaku\\downloads\\m23\\ann_class_pro\\annenv\\lib\\site-packages (from transformers>=4.39.0->langchain_huggingface) (1.26.4)\n",
      "Requirement already satisfied: regex!=2019.12.17 in c:\\users\\thaku\\downloads\\m23\\ann_class_pro\\annenv\\lib\\site-packages (from transformers>=4.39.0->langchain_huggingface) (2024.7.24)\n",
      "Requirement already satisfied: safetensors>=0.4.1 in c:\\users\\thaku\\downloads\\m23\\ann_class_pro\\annenv\\lib\\site-packages (from transformers>=4.39.0->langchain_huggingface) (0.4.5)\n",
      "Requirement already satisfied: jsonpointer>=1.9 in c:\\users\\thaku\\downloads\\m23\\ann_class_pro\\annenv\\lib\\site-packages (from jsonpatch<2.0,>=1.33->langchain-core<0.4,>=0.3.0->langchain_huggingface) (3.0.0)\n",
      "Requirement already satisfied: httpx<1,>=0.23.0 in c:\\users\\thaku\\downloads\\m23\\ann_class_pro\\annenv\\lib\\site-packages (from langsmith<0.2.0,>=0.1.125->langchain-core<0.4,>=0.3.0->langchain_huggingface) (0.27.0)\n",
      "Requirement already satisfied: orjson<4.0.0,>=3.9.14 in c:\\users\\thaku\\downloads\\m23\\ann_class_pro\\annenv\\lib\\site-packages (from langsmith<0.2.0,>=0.1.125->langchain-core<0.4,>=0.3.0->langchain_huggingface) (3.10.7)\n",
      "Requirement already satisfied: requests-toolbelt<2.0.0,>=1.0.0 in c:\\users\\thaku\\downloads\\m23\\ann_class_pro\\annenv\\lib\\site-packages (from langsmith<0.2.0,>=0.1.125->langchain-core<0.4,>=0.3.0->langchain_huggingface) (1.0.0)\n",
      "Requirement already satisfied: annotated-types>=0.6.0 in c:\\users\\thaku\\downloads\\m23\\ann_class_pro\\annenv\\lib\\site-packages (from pydantic<3.0.0,>=2.5.2->langchain-core<0.4,>=0.3.0->langchain_huggingface) (0.7.0)\n",
      "Requirement already satisfied: pydantic-core==2.23.4 in c:\\users\\thaku\\downloads\\m23\\ann_class_pro\\annenv\\lib\\site-packages (from pydantic<3.0.0,>=2.5.2->langchain-core<0.4,>=0.3.0->langchain_huggingface) (2.23.4)\n",
      "Requirement already satisfied: charset-normalizer<4,>=2 in c:\\users\\thaku\\downloads\\m23\\ann_class_pro\\annenv\\lib\\site-packages (from requests->huggingface-hub>=0.23.0->langchain_huggingface) (3.3.2)\n",
      "Requirement already satisfied: idna<4,>=2.5 in c:\\users\\thaku\\downloads\\m23\\ann_class_pro\\annenv\\lib\\site-packages (from requests->huggingface-hub>=0.23.0->langchain_huggingface) (3.7)\n",
      "Requirement already satisfied: urllib3<3,>=1.21.1 in c:\\users\\thaku\\downloads\\m23\\ann_class_pro\\annenv\\lib\\site-packages (from requests->huggingface-hub>=0.23.0->langchain_huggingface) (2.2.2)\n",
      "Requirement already satisfied: certifi>=2017.4.17 in c:\\users\\thaku\\downloads\\m23\\ann_class_pro\\annenv\\lib\\site-packages (from requests->huggingface-hub>=0.23.0->langchain_huggingface) (2024.8.30)\n",
      "Requirement already satisfied: networkx in c:\\users\\thaku\\downloads\\m23\\ann_class_pro\\annenv\\lib\\site-packages (from torch>=1.11.0->sentence-transformers>=2.6.0->langchain_huggingface) (3.4.1)\n",
      "Requirement already satisfied: jinja2 in c:\\users\\thaku\\downloads\\m23\\ann_class_pro\\annenv\\lib\\site-packages (from torch>=1.11.0->sentence-transformers>=2.6.0->langchain_huggingface) (3.1.4)\n",
      "Requirement already satisfied: sympy==1.13.1 in c:\\users\\thaku\\downloads\\m23\\ann_class_pro\\annenv\\lib\\site-packages (from torch>=1.11.0->sentence-transformers>=2.6.0->langchain_huggingface) (1.13.1)\n",
      "Requirement already satisfied: mpmath<1.4,>=1.1.0 in c:\\users\\thaku\\downloads\\m23\\ann_class_pro\\annenv\\lib\\site-packages (from sympy==1.13.1->torch>=1.11.0->sentence-transformers>=2.6.0->langchain_huggingface) (1.3.0)\n",
      "Requirement already satisfied: colorama in c:\\users\\thaku\\downloads\\m23\\ann_class_pro\\annenv\\lib\\site-packages (from tqdm>=4.42.1->huggingface-hub>=0.23.0->langchain_huggingface) (0.4.6)\n",
      "Requirement already satisfied: joblib>=1.2.0 in c:\\users\\thaku\\downloads\\m23\\ann_class_pro\\annenv\\lib\\site-packages (from scikit-learn->sentence-transformers>=2.6.0->langchain_huggingface) (1.4.2)\n",
      "Requirement already satisfied: threadpoolctl>=3.1.0 in c:\\users\\thaku\\downloads\\m23\\ann_class_pro\\annenv\\lib\\site-packages (from scikit-learn->sentence-transformers>=2.6.0->langchain_huggingface) (3.5.0)\n",
      "Requirement already satisfied: anyio in c:\\users\\thaku\\downloads\\m23\\ann_class_pro\\annenv\\lib\\site-packages (from httpx<1,>=0.23.0->langsmith<0.2.0,>=0.1.125->langchain-core<0.4,>=0.3.0->langchain_huggingface) (4.2.0)\n",
      "Requirement already satisfied: httpcore==1.* in c:\\users\\thaku\\downloads\\m23\\ann_class_pro\\annenv\\lib\\site-packages (from httpx<1,>=0.23.0->langsmith<0.2.0,>=0.1.125->langchain-core<0.4,>=0.3.0->langchain_huggingface) (1.0.2)\n",
      "Requirement already satisfied: sniffio in c:\\users\\thaku\\downloads\\m23\\ann_class_pro\\annenv\\lib\\site-packages (from httpx<1,>=0.23.0->langsmith<0.2.0,>=0.1.125->langchain-core<0.4,>=0.3.0->langchain_huggingface) (1.3.0)\n",
      "Requirement already satisfied: h11<0.15,>=0.13 in c:\\users\\thaku\\downloads\\m23\\ann_class_pro\\annenv\\lib\\site-packages (from httpcore==1.*->httpx<1,>=0.23.0->langsmith<0.2.0,>=0.1.125->langchain-core<0.4,>=0.3.0->langchain_huggingface) (0.14.0)\n",
      "Requirement already satisfied: MarkupSafe>=2.0 in c:\\users\\thaku\\downloads\\m23\\ann_class_pro\\annenv\\lib\\site-packages (from jinja2->torch>=1.11.0->sentence-transformers>=2.6.0->langchain_huggingface) (2.1.3)\n"
     ]
    }
   ],
   "source": [
    "!pip install langchain_huggingface"
   ]
  },
  {
   "cell_type": "code",
   "execution_count": 38,
   "metadata": {},
   "outputs": [
    {
     "name": "stdout",
     "output_type": "stream",
     "text": [
      "Requirement already satisfied: huggingface_hub in c:\\users\\thaku\\downloads\\m23\\ann_class_pro\\annenv\\lib\\site-packages (0.26.0)\n",
      "Requirement already satisfied: filelock in c:\\users\\thaku\\downloads\\m23\\ann_class_pro\\annenv\\lib\\site-packages (from huggingface_hub) (3.16.1)\n",
      "Requirement already satisfied: fsspec>=2023.5.0 in c:\\users\\thaku\\downloads\\m23\\ann_class_pro\\annenv\\lib\\site-packages (from huggingface_hub) (2024.9.0)\n",
      "Requirement already satisfied: packaging>=20.9 in c:\\users\\thaku\\downloads\\m23\\ann_class_pro\\annenv\\lib\\site-packages (from huggingface_hub) (24.1)\n",
      "Requirement already satisfied: pyyaml>=5.1 in c:\\users\\thaku\\downloads\\m23\\ann_class_pro\\annenv\\lib\\site-packages (from huggingface_hub) (6.0.1)\n",
      "Requirement already satisfied: requests in c:\\users\\thaku\\downloads\\m23\\ann_class_pro\\annenv\\lib\\site-packages (from huggingface_hub) (2.32.3)\n",
      "Requirement already satisfied: tqdm>=4.42.1 in c:\\users\\thaku\\downloads\\m23\\ann_class_pro\\annenv\\lib\\site-packages (from huggingface_hub) (4.66.5)\n",
      "Requirement already satisfied: typing-extensions>=3.7.4.3 in c:\\users\\thaku\\downloads\\m23\\ann_class_pro\\annenv\\lib\\site-packages (from huggingface_hub) (4.12.2)\n",
      "Requirement already satisfied: colorama in c:\\users\\thaku\\downloads\\m23\\ann_class_pro\\annenv\\lib\\site-packages (from tqdm>=4.42.1->huggingface_hub) (0.4.6)\n",
      "Requirement already satisfied: charset-normalizer<4,>=2 in c:\\users\\thaku\\downloads\\m23\\ann_class_pro\\annenv\\lib\\site-packages (from requests->huggingface_hub) (3.3.2)\n",
      "Requirement already satisfied: idna<4,>=2.5 in c:\\users\\thaku\\downloads\\m23\\ann_class_pro\\annenv\\lib\\site-packages (from requests->huggingface_hub) (3.7)\n",
      "Requirement already satisfied: urllib3<3,>=1.21.1 in c:\\users\\thaku\\downloads\\m23\\ann_class_pro\\annenv\\lib\\site-packages (from requests->huggingface_hub) (2.2.2)\n",
      "Requirement already satisfied: certifi>=2017.4.17 in c:\\users\\thaku\\downloads\\m23\\ann_class_pro\\annenv\\lib\\site-packages (from requests->huggingface_hub) (2024.8.30)\n"
     ]
    }
   ],
   "source": [
    "## API call \n",
    "!pip install huggingface_hub"
   ]
  },
  {
   "cell_type": "code",
   "execution_count": 39,
   "metadata": {},
   "outputs": [
    {
     "data": {
      "text/plain": [
       "True"
      ]
     },
     "execution_count": 39,
     "metadata": {},
     "output_type": "execute_result"
    }
   ],
   "source": [
    "import os\n",
    "from dotenv import load_dotenv\n",
    "load_dotenv()"
   ]
  },
  {
   "cell_type": "markdown",
   "metadata": {},
   "source": [
    "### HuggingFaceEndpoint\n",
    "#### How to Access HuggingFace Models with API\n",
    "There are also two ways to use this class. You can specify the model with the repo_id parameter. Those endpoints use the serverless API, which is particularly beneficial to people using pro accounts or enterprise hub. Still, regular users can already have access to a fair amount of request by connecting with their HF token in the environment where they are executing the code."
   ]
  },
  {
   "cell_type": "code",
   "execution_count": 40,
   "metadata": {},
   "outputs": [],
   "source": [
    "from langchain_huggingface import HuggingFaceEndpoint"
   ]
  },
  {
   "cell_type": "code",
   "execution_count": 41,
   "metadata": {},
   "outputs": [
    {
     "name": "stderr",
     "output_type": "stream",
     "text": [
      "WARNING! max_length is not default parameter.\n",
      "                    max_length was transferred to model_kwargs.\n",
      "                    Please make sure that max_length is what you intended.\n",
      "WARNING! token is not default parameter.\n",
      "                    token was transferred to model_kwargs.\n",
      "                    Please make sure that token is what you intended.\n",
      "Note: Environment variable`HF_TOKEN` is set and is the current active token independently from the token you've just configured.\n"
     ]
    }
   ],
   "source": [
    "repo_id = \"mistralai/Mistral-7B-Instruct-v0.3\"\n",
    "llm = HuggingFaceEndpoint(repo_id = repo_id, max_length = 150,temperature=0.7,token = os.getenv(\"HF_TOKEN\"))"
   ]
  },
  {
   "cell_type": "code",
   "execution_count": 42,
   "metadata": {},
   "outputs": [
    {
     "data": {
      "text/plain": [
       "'?\\n\\nMachine learning is a subset of artificial intelligence that provides systems the ability to automatically learn and improve from experience without being explicitly programmed. Machine learning focuses on the development of computer programs that can access data and use it to learn for themselves. The process of learning begins with observations or data, such as examples, direct experience, or instruction, in order to look for patterns in data and make better decisions in the future based on the examples that we provide. The primary aim is to allow the computers to learn automatically without human intervention or assistance and adjust actions accordingly.\\n\\nMachine learning is already used in a number of applications such as email filtering, detection of network intruders, and computer vision, where it is used to detect tumors in images, among other things. It is also used in finance, where it helps in the prediction of stock prices, fraud detection, and credit scoring.\\n\\nThere are three main types of machine learning: supervised learning, unsupervised learning, and reinforcement learning. In supervised learning, the algorithm is trained on a labeled dataset, where the correct output is provided for each example. The goal is to learn a mapping function from the input to the output. In unsupervised learning, the algorithm is given an unlabeled dataset and the goal is to find hidden patterns or structure in the data. In reinforcement learning, the algorithm learns to make decisions by interacting with an environment and receiving rewards or punishments for its actions.\\n\\nOverall, machine learning is a powerful tool that has the potential to revolutionize many industries and improve our lives in many ways. It is an exciting field with many opportunities for innovation and advancement.'"
      ]
     },
     "execution_count": 42,
     "metadata": {},
     "output_type": "execute_result"
    }
   ],
   "source": [
    "llm.invoke(\"what is machine learning\")"
   ]
  },
  {
   "cell_type": "code",
   "execution_count": 43,
   "metadata": {},
   "outputs": [
    {
     "data": {
      "text/plain": [
       "' and how does it work?\\n\\nGenerative AI is a type of artificial intelligence that uses machine learning algorithms to create new content, such as images, music, text, or even 3D models. It works by learning patterns from large datasets and then generating new content that is similar to the patterns it has learned.\\n\\nThe most common method used in generative AI is called deep learning, which involves training artificial neural networks to recognize patterns in data. These networks are composed of layers of interconnected nodes, or \"neurons,\" that process and transform the data. The deeper the network, the more complex the patterns it can learn.\\n\\nOnce the network has been trained, it can be used to generate new content by feeding it random input and allowing it to produce output. The output is then evaluated based on certain criteria, such as how closely it resembles the original data or how well it adheres to specific rules. The network then adjusts its weights and biases based on the feedback, allowing it to improve its ability to generate new content that is similar to the original data.\\n\\nGenerative AI has a wide range of applications, from creating realistic images and videos to generating music and even writing articles and stories. It is also being used in fields such as medicine, finance, and marketing to generate insights and predictions based on large datasets.\\n\\nOne of the most well-known examples of generative AI is the DeepMind AlphaGo program, which was able to defeat a world champion Go player in 2016. The program used deep learning to analyze millions of Go games and develop strategies that were beyond the capabilities of human players.\\n\\nAnother example is the GAN (Generative Adversarial Network) architecture, which consists of two neural networks that compete with each other. One network generates new content, while the other network evaluates the content and provides feedback to the first network. This competition helps the network to improve its ability to generate realistic content.\\n\\nGenerative AI is a rapidly evolving field, with new techniques and applications being developed all the time. As the technology continues to advance, it is likely that we will see even more exciting and innovative uses of generative AI in the future.'"
      ]
     },
     "execution_count": 43,
     "metadata": {},
     "output_type": "execute_result"
    }
   ],
   "source": [
    "llm.invoke(\"What is generative AI \")"
   ]
  },
  {
   "cell_type": "code",
   "execution_count": 44,
   "metadata": {},
   "outputs": [
    {
     "name": "stdout",
     "output_type": "stream",
     "text": [
      "input_variables=['question'] input_types={} partial_variables={} template='\\nQuestion:{question}\\nAnswer:Lets think step by step.\\n'\n"
     ]
    }
   ],
   "source": [
    "from langchain import PromptTemplate,LLMChain\n",
    "template=\"\"\"\n",
    "Question:{question}\n",
    "Answer:Lets think step by step.\n",
    "\"\"\"\n",
    "prompt=PromptTemplate(template=template,input_variables=[\"question\"])\n",
    "print(prompt)"
   ]
  },
  {
   "cell_type": "code",
   "execution_count": 45,
   "metadata": {},
   "outputs": [
    {
     "data": {
      "text/plain": [
       "\"? India won the Cricket World Cup 2011, defeating Sri Lanka in the final match held at the Wankhede Stadium in Mumbai, India, on April 2, 2011. India scored 277 runs in 50 overs, and Sri Lanka was all out for 275 runs, with Gautam Gambhir being named Man of the Match for his score of 97 runs. This was India's second Cricket World Cup title, with their first win coming in 1983.\""
      ]
     },
     "execution_count": 45,
     "metadata": {},
     "output_type": "execute_result"
    }
   ],
   "source": [
    "llm_chain=LLMChain(llm=llm,prompt=prompt)\n",
    "llm.invoke(\"Who won the cricket World up 2011\")"
   ]
  },
  {
   "cell_type": "code",
   "execution_count": 46,
   "metadata": {},
   "outputs": [
    {
     "name": "stdout",
     "output_type": "stream",
     "text": [
      "WARNING:tensorflow:From c:\\Users\\thaku\\Downloads\\m23\\ann_class_pro\\annenv\\Lib\\site-packages\\keras\\src\\losses.py:2976: The name tf.losses.sparse_softmax_cross_entropy is deprecated. Please use tf.compat.v1.losses.sparse_softmax_cross_entropy instead.\n",
      "\n"
     ]
    },
    {
     "data": {
      "application/vnd.jupyter.widget-view+json": {
       "model_id": "3763939265fc4c71a3b59e440463fb68",
       "version_major": 2,
       "version_minor": 0
      },
      "text/plain": [
       "modules.json:   0%|          | 0.00/349 [00:00<?, ?B/s]"
      ]
     },
     "metadata": {},
     "output_type": "display_data"
    },
    {
     "name": "stderr",
     "output_type": "stream",
     "text": [
      "c:\\Users\\thaku\\Downloads\\m23\\ann_class_pro\\annenv\\Lib\\site-packages\\huggingface_hub\\file_download.py:139: UserWarning: `huggingface_hub` cache-system uses symlinks by default to efficiently store duplicated files but your machine does not support them in C:\\Users\\thaku\\.cache\\huggingface\\hub\\models--BAAI--bge-small-en. Caching files will still work but in a degraded version that might require more space on your disk. This warning can be disabled by setting the `HF_HUB_DISABLE_SYMLINKS_WARNING` environment variable. For more details, see https://huggingface.co/docs/huggingface_hub/how-to-cache#limitations.\n",
      "To support symlinks on Windows, you either need to activate Developer Mode or to run Python as an administrator. In order to activate developer mode, see this article: https://docs.microsoft.com/en-us/windows/apps/get-started/enable-your-device-for-development\n",
      "  warnings.warn(message)\n"
     ]
    },
    {
     "data": {
      "application/vnd.jupyter.widget-view+json": {
       "model_id": "46b6b29428db407f8af5c36315397340",
       "version_major": 2,
       "version_minor": 0
      },
      "text/plain": [
       "config_sentence_transformers.json:   0%|          | 0.00/124 [00:00<?, ?B/s]"
      ]
     },
     "metadata": {},
     "output_type": "display_data"
    },
    {
     "data": {
      "application/vnd.jupyter.widget-view+json": {
       "model_id": "53f7c1d341964018a667ba0c1e5b3746",
       "version_major": 2,
       "version_minor": 0
      },
      "text/plain": [
       "README.md:   0%|          | 0.00/90.8k [00:00<?, ?B/s]"
      ]
     },
     "metadata": {},
     "output_type": "display_data"
    },
    {
     "data": {
      "application/vnd.jupyter.widget-view+json": {
       "model_id": "59a2c98c1b224e9ab281440e76568628",
       "version_major": 2,
       "version_minor": 0
      },
      "text/plain": [
       "sentence_bert_config.json:   0%|          | 0.00/52.0 [00:00<?, ?B/s]"
      ]
     },
     "metadata": {},
     "output_type": "display_data"
    },
    {
     "data": {
      "application/vnd.jupyter.widget-view+json": {
       "model_id": "2331965dfcc147419ed0e8f3c3e5ea6b",
       "version_major": 2,
       "version_minor": 0
      },
      "text/plain": [
       "config.json:   0%|          | 0.00/684 [00:00<?, ?B/s]"
      ]
     },
     "metadata": {},
     "output_type": "display_data"
    },
    {
     "data": {
      "application/vnd.jupyter.widget-view+json": {
       "model_id": "00e0c514fcb54a7cb6b2d50d1ac6c4ee",
       "version_major": 2,
       "version_minor": 0
      },
      "text/plain": [
       "model.safetensors:   0%|          | 0.00/133M [00:00<?, ?B/s]"
      ]
     },
     "metadata": {},
     "output_type": "display_data"
    },
    {
     "data": {
      "application/vnd.jupyter.widget-view+json": {
       "model_id": "125e1fe50fac411e8f16d3326da84b76",
       "version_major": 2,
       "version_minor": 0
      },
      "text/plain": [
       "tokenizer_config.json:   0%|          | 0.00/366 [00:00<?, ?B/s]"
      ]
     },
     "metadata": {},
     "output_type": "display_data"
    },
    {
     "data": {
      "application/vnd.jupyter.widget-view+json": {
       "model_id": "ddf7fffce72945c2889e86011ffbfb26",
       "version_major": 2,
       "version_minor": 0
      },
      "text/plain": [
       "vocab.txt:   0%|          | 0.00/232k [00:00<?, ?B/s]"
      ]
     },
     "metadata": {},
     "output_type": "display_data"
    },
    {
     "data": {
      "application/vnd.jupyter.widget-view+json": {
       "model_id": "d43e110748d54b8bbc47cd156cc4bc5e",
       "version_major": 2,
       "version_minor": 0
      },
      "text/plain": [
       "tokenizer.json:   0%|          | 0.00/711k [00:00<?, ?B/s]"
      ]
     },
     "metadata": {},
     "output_type": "display_data"
    },
    {
     "data": {
      "application/vnd.jupyter.widget-view+json": {
       "model_id": "0b7287c5ef114de9ae4f43bf54a11f4d",
       "version_major": 2,
       "version_minor": 0
      },
      "text/plain": [
       "special_tokens_map.json:   0%|          | 0.00/125 [00:00<?, ?B/s]"
      ]
     },
     "metadata": {},
     "output_type": "display_data"
    },
    {
     "data": {
      "application/vnd.jupyter.widget-view+json": {
       "model_id": "9bbc630241254688832c38ff186921a4",
       "version_major": 2,
       "version_minor": 0
      },
      "text/plain": [
       "1_Pooling/config.json:   0%|          | 0.00/190 [00:00<?, ?B/s]"
      ]
     },
     "metadata": {},
     "output_type": "display_data"
    }
   ],
   "source": [
    "from langchain_community.embeddings import HuggingFaceBgeEmbeddings\n",
    "\n",
    "model_name = \"BAAI/bge-small-en\"\n",
    "model_kwargs = {\"device\": \"cpu\"}\n",
    "encode_kwargs = {\"normalize_embeddings\": True}\n",
    "hf = HuggingFaceBgeEmbeddings(\n",
    "    model_name=model_name, model_kwargs=model_kwargs, encode_kwargs=encode_kwargs\n",
    ")\n"
   ]
  },
  {
   "cell_type": "code",
   "execution_count": 47,
   "metadata": {},
   "outputs": [],
   "source": [
    "embedding = hf.embed_query(\"hi this is harrison\")"
   ]
  },
  {
   "cell_type": "code",
   "execution_count": 48,
   "metadata": {},
   "outputs": [
    {
     "data": {
      "text/plain": [
       "[-0.02841656096279621,\n",
       " 0.012183279730379581,\n",
       " 0.027443930506706238,\n",
       " -0.05482868477702141,\n",
       " 0.024238910526037216,\n",
       " 0.0007663055439479649,\n",
       " 0.06783363968133926,\n",
       " 0.01634834334254265,\n",
       " -0.018950743600726128,\n",
       " 0.01254290621727705,\n",
       " 0.02156500145792961,\n",
       " -0.08793038874864578,\n",
       " 0.0006460713339038193,\n",
       " 0.03327082097530365,\n",
       " 0.005463753826916218,\n",
       " -0.060376472771167755,\n",
       " 0.050422657281160355,\n",
       " 0.004434817470610142,\n",
       " 0.0009598946198821068,\n",
       " 0.0017405522521585226,\n",
       " 0.003298833966255188,\n",
       " 0.03167250379920006,\n",
       " -0.04880747199058533,\n",
       " -0.04481915012001991,\n",
       " 0.07132110744714737,\n",
       " -0.007510860450565815,\n",
       " -0.0011259395396336913,\n",
       " -0.01580120250582695,\n",
       " -0.029402371495962143,\n",
       " -0.17224568128585815,\n",
       " -0.031895194202661514,\n",
       " -0.001629163627512753,\n",
       " 0.01810498908162117,\n",
       " 0.015315390191972256,\n",
       " -0.02072959579527378,\n",
       " -0.008872960694134235,\n",
       " -0.0012822661083191633,\n",
       " 0.027276931330561638,\n",
       " -0.010114241391420364,\n",
       " 0.012621615082025528,\n",
       " -0.007077896036207676,\n",
       " -0.01669314317405224,\n",
       " 0.04085584729909897,\n",
       " 0.023938355967402458,\n",
       " -0.02008151449263096,\n",
       " 0.028681157156825066,\n",
       " -0.019400743767619133,\n",
       " -0.01461820863187313,\n",
       " 0.017379628494381905,\n",
       " 0.0041640824638307095,\n",
       " 0.06415650248527527,\n",
       " 0.04768307879567146,\n",
       " 0.0018365145660936832,\n",
       " -8.070914191193879e-05,\n",
       " 0.01659681461751461,\n",
       " 0.011124175041913986,\n",
       " 0.069694384932518,\n",
       " 0.05182047560811043,\n",
       " 0.05568530783057213,\n",
       " 0.05551543086767197,\n",
       " 0.0005039662355557084,\n",
       " 0.0418706014752388,\n",
       " -0.15344086289405823,\n",
       " 0.05180780589580536,\n",
       " 0.006689799949526787,\n",
       " -0.031670715659856796,\n",
       " -0.009105012752115726,\n",
       " -0.051604725420475006,\n",
       " 0.042508602142333984,\n",
       " 0.0282000545412302,\n",
       " -0.010748140513896942,\n",
       " 0.022405795753002167,\n",
       " 0.04439552500844002,\n",
       " 0.0041155098006129265,\n",
       " 0.018998488783836365,\n",
       " -0.0043571749702095985,\n",
       " 0.04762764647603035,\n",
       " 0.011824607849121094,\n",
       " 0.008164585568010807,\n",
       " 0.008177277632057667,\n",
       " -0.009698750451207161,\n",
       " -0.014260290190577507,\n",
       " 0.01140968780964613,\n",
       " -0.07362116128206253,\n",
       " -0.05439521744847298,\n",
       " -0.05703964829444885,\n",
       " -0.0036085473839193583,\n",
       " 0.0026660647708922625,\n",
       " 0.023782482370734215,\n",
       " 0.015376215800642967,\n",
       " -0.07020369917154312,\n",
       " -0.03130036219954491,\n",
       " -0.0031142907682806253,\n",
       " -0.015812186524271965,\n",
       " -0.03791401535272598,\n",
       " -0.025921916589140892,\n",
       " 0.018168391659855843,\n",
       " -0.03882461413741112,\n",
       " -0.05674504116177559,\n",
       " 0.5792059898376465,\n",
       " -0.05278833210468292,\n",
       " 0.020716369152069092,\n",
       " 0.06794390082359314,\n",
       " -0.04541652277112007,\n",
       " 0.011642470955848694,\n",
       " -0.021571751683950424,\n",
       " 0.020341726019978523,\n",
       " -0.027448944747447968,\n",
       " -0.045588940382003784,\n",
       " -0.02944357320666313,\n",
       " -0.023662518709897995,\n",
       " -0.034315239638090134,\n",
       " 0.0019388552755117416,\n",
       " -0.07095140963792801,\n",
       " 0.03455634042620659,\n",
       " -0.030558962374925613,\n",
       " 0.039078596979379654,\n",
       " -0.02970731258392334,\n",
       " -0.0008282964117825031,\n",
       " -0.01215934194624424,\n",
       " -0.018272830173373222,\n",
       " 0.02548649162054062,\n",
       " -0.004461659584194422,\n",
       " 0.016335316002368927,\n",
       " 0.019126495346426964,\n",
       " -0.05483204126358032,\n",
       " 0.02763599343597889,\n",
       " -0.004757691640406847,\n",
       " 0.05900176241993904,\n",
       " -0.0016944841481745243,\n",
       " 0.008015005849301815,\n",
       " -0.037726838141679764,\n",
       " -0.09893041849136353,\n",
       " -0.022574391216039658,\n",
       " -0.037604644894599915,\n",
       " -0.0021698756609112024,\n",
       " 0.003244602121412754,\n",
       " -0.019202522933483124,\n",
       " -0.008631240576505661,\n",
       " -0.048023100942373276,\n",
       " 0.008696703240275383,\n",
       " -0.09516111761331558,\n",
       " -0.03496047109365463,\n",
       " -0.04360802844166756,\n",
       " -0.00034401644370518625,\n",
       " -0.010173632763326168,\n",
       " -0.030999524518847466,\n",
       " 0.024309681728482246,\n",
       " -0.020402051508426666,\n",
       " 0.031139379367232323,\n",
       " 0.0008811174775473773,\n",
       " 0.013916493393480778,\n",
       " -0.031196201220154762,\n",
       " -0.037154048681259155,\n",
       " 0.004029625561088324,\n",
       " 0.014799795113503933,\n",
       " 0.043188951909542084,\n",
       " 0.038754820823669434,\n",
       " 0.013851981610059738,\n",
       " 0.01979786343872547,\n",
       " 0.010267077945172787,\n",
       " -0.005434116814285517,\n",
       " -0.014299213886260986,\n",
       " 0.027637850493192673,\n",
       " 0.009802636690437794,\n",
       " -0.13550284504890442,\n",
       " -0.01713976450264454,\n",
       " 0.017617102712392807,\n",
       " 0.023132236674427986,\n",
       " 0.001759010716341436,\n",
       " 0.03088941052556038,\n",
       " 0.03991871327161789,\n",
       " -0.013684185221791267,\n",
       " 0.02481653355062008,\n",
       " 0.05405015870928764,\n",
       " 0.017761169001460075,\n",
       " -0.018475061282515526,\n",
       " 0.02595539577305317,\n",
       " -0.006377533543854952,\n",
       " -0.016587311401963234,\n",
       " 0.03784802183508873,\n",
       " -0.027290044352412224,\n",
       " -0.0528457947075367,\n",
       " -0.038033172488212585,\n",
       " 0.05191108584403992,\n",
       " -0.007557060103863478,\n",
       " -0.031805310398340225,\n",
       " 0.013284190557897091,\n",
       " -0.027723709121346474,\n",
       " 0.05630655214190483,\n",
       " 0.0030418778769671917,\n",
       " 0.05332484468817711,\n",
       " -0.05791127309203148,\n",
       " -0.011325813829898834,\n",
       " -0.031172040849924088,\n",
       " 0.025608684867620468,\n",
       " 0.03389057517051697,\n",
       " -0.0010284347226843238,\n",
       " 0.015864888206124306,\n",
       " 0.010595189407467842,\n",
       " -0.02703780308365822,\n",
       " -0.0009308445733040571,\n",
       " -0.04815223813056946,\n",
       " 0.02817925252020359,\n",
       " 0.010320624336600304,\n",
       " 0.06662959605455399,\n",
       " -0.016558196395635605,\n",
       " -0.004431402776390314,\n",
       " 0.03823423758149147,\n",
       " -0.02340821363031864,\n",
       " -0.035581737756729126,\n",
       " -0.05829068273305893,\n",
       " -0.011181505396962166,\n",
       " -0.01768455281853676,\n",
       " -0.016141286119818687,\n",
       " -0.03424530476331711,\n",
       " -0.02513953484594822,\n",
       " 0.03939666226506233,\n",
       " -0.02365824021399021,\n",
       " -0.007725009229034185,\n",
       " -0.005098926369100809,\n",
       " -0.03523438051342964,\n",
       " -0.014076839201152325,\n",
       " -0.2232602834701538,\n",
       " -0.03147139027714729,\n",
       " -0.0012905950425192714,\n",
       " -0.0017199987778440118,\n",
       " -0.007846050895750523,\n",
       " -0.05802324786782265,\n",
       " 0.0461745522916317,\n",
       " 0.024552645161747932,\n",
       " 0.07320842146873474,\n",
       " 0.017268339172005653,\n",
       " 0.04761209711432457,\n",
       " 0.013473288156092167,\n",
       " -0.005516032688319683,\n",
       " -0.014357813633978367,\n",
       " -0.009674289263784885,\n",
       " 0.048782505095005035,\n",
       " 0.030538097023963928,\n",
       " -0.024993950501084328,\n",
       " 0.02148621529340744,\n",
       " 0.017639825120568275,\n",
       " 0.05313889682292938,\n",
       " 0.013485007919371128,\n",
       " -0.023225978016853333,\n",
       " -0.021403955295681953,\n",
       " 0.0260753370821476,\n",
       " 0.002029207767918706,\n",
       " 0.12753744423389435,\n",
       " 0.08316833525896072,\n",
       " 0.04408947005867958,\n",
       " -0.02670358307659626,\n",
       " 0.00552201084792614,\n",
       " -0.00929486844688654,\n",
       " 0.02007429115474224,\n",
       " -0.09684175252914429,\n",
       " -0.02470392733812332,\n",
       " 0.02508697286248207,\n",
       " 0.0020886200945824385,\n",
       " -0.0448940210044384,\n",
       " -0.07861138880252838,\n",
       " -0.004376362077891827,\n",
       " -0.06590455025434494,\n",
       " 0.014689406380057335,\n",
       " -0.05764186754822731,\n",
       " -0.07152026146650314,\n",
       " -0.06232647970318794,\n",
       " 0.003431678283959627,\n",
       " -0.04606551304459572,\n",
       " 0.045300889760255814,\n",
       " -0.026762260124087334,\n",
       " 0.034010909497737885,\n",
       " 0.04547383636236191,\n",
       " -0.028179239481687546,\n",
       " 0.005011791363358498,\n",
       " 0.00963082816451788,\n",
       " -0.030305558815598488,\n",
       " -0.03612479194998741,\n",
       " -0.013626978732645512,\n",
       " -0.032653722912073135,\n",
       " -0.04467751085758209,\n",
       " 0.010642154142260551,\n",
       " -0.027486367151141167,\n",
       " -0.02456512115895748,\n",
       " -0.02474774606525898,\n",
       " 0.053619567304849625,\n",
       " 0.020789967849850655,\n",
       " 0.019468482583761215,\n",
       " 0.053241197019815445,\n",
       " -0.014002466574311256,\n",
       " 0.02124325931072235,\n",
       " -0.04957321658730507,\n",
       " -0.008522605523467064,\n",
       " 0.007852854207158089,\n",
       " -0.05719393864274025,\n",
       " -0.027550633996725082,\n",
       " 0.005300914868712425,\n",
       " 0.04007292538881302,\n",
       " 0.01959792897105217,\n",
       " -0.04519733041524887,\n",
       " 0.032435812056064606,\n",
       " -0.012342429719865322,\n",
       " 0.034314412623643875,\n",
       " 0.02110210806131363,\n",
       " 0.03984646499156952,\n",
       " 0.03166380524635315,\n",
       " -0.03359023854136467,\n",
       " 0.03164784610271454,\n",
       " -0.003304522717371583,\n",
       " 0.004641841631382704,\n",
       " 0.03758934140205383,\n",
       " -0.05924459174275398,\n",
       " 0.007028359919786453,\n",
       " 0.0038087167777121067,\n",
       " -0.025788895785808563,\n",
       " -0.02120332606136799,\n",
       " 0.022691233083605766,\n",
       " -0.021772973239421844,\n",
       " -0.27963775396347046,\n",
       " 0.007267446257174015,\n",
       " 0.021072011440992355,\n",
       " 0.04519745334982872,\n",
       " -0.020534491166472435,\n",
       " 0.02431371808052063,\n",
       " -0.0006136518204584718,\n",
       " -0.011857028119266033,\n",
       " -0.03296775743365288,\n",
       " 0.035843126475811005,\n",
       " 0.031281728297472,\n",
       " 0.06373954564332962,\n",
       " 0.046547841280698776,\n",
       " -0.014470555819571018,\n",
       " 0.01586972549557686,\n",
       " 0.03397124260663986,\n",
       " 0.018059568479657173,\n",
       " 0.002298760926350951,\n",
       " 0.016549888998270035,\n",
       " -0.021714895963668823,\n",
       " -0.03486000373959541,\n",
       " -0.0008649466908536851,\n",
       " 0.15126043558120728,\n",
       " -0.02453678473830223,\n",
       " 0.030671171844005585,\n",
       " -0.007318221032619476,\n",
       " -0.006135482341051102,\n",
       " 0.06415140628814697,\n",
       " 0.0160214900970459,\n",
       " -0.03636442869901657,\n",
       " 0.019898606464266777,\n",
       " -0.02117234095931053,\n",
       " 0.04829413443803787,\n",
       " -0.04478095471858978,\n",
       " 0.04763379693031311,\n",
       " 0.0007749418145976961,\n",
       " -0.005927972495555878,\n",
       " 0.061542682349681854,\n",
       " 0.023968402296304703,\n",
       " 0.013305016793310642,\n",
       " 0.022684471681714058,\n",
       " 0.014538079500198364,\n",
       " -0.05215905234217644,\n",
       " -0.032749637961387634,\n",
       " 0.08583346009254456,\n",
       " -0.0037248271983116865,\n",
       " 0.0013494156301021576,\n",
       " 0.04091988503932953,\n",
       " 0.011659668758511543,\n",
       " 0.05843622237443924,\n",
       " -0.0222861859947443,\n",
       " -0.011520694009959698,\n",
       " 0.004705701023340225,\n",
       " 0.0471825934946537,\n",
       " -0.0019179185619577765,\n",
       " 0.033009354025125504,\n",
       " -0.03505057096481323,\n",
       " -0.020736588165163994,\n",
       " -0.009222185239195824,\n",
       " 0.014618263579905033,\n",
       " 0.006456061732023954,\n",
       " 0.0010978468926623464,\n",
       " 0.01022400427609682,\n",
       " 0.08537217229604721,\n",
       " 0.03883955627679825]"
      ]
     },
     "execution_count": 48,
     "metadata": {},
     "output_type": "execute_result"
    }
   ],
   "source": [
    "embedding"
   ]
  },
  {
   "cell_type": "code",
   "execution_count": null,
   "metadata": {},
   "outputs": [],
   "source": []
  }
 ],
 "metadata": {
  "kernelspec": {
   "display_name": "Python 3",
   "language": "python",
   "name": "python3"
  },
  "language_info": {
   "codemirror_mode": {
    "name": "ipython",
    "version": 3
   },
   "file_extension": ".py",
   "mimetype": "text/x-python",
   "name": "python",
   "nbconvert_exporter": "python",
   "pygments_lexer": "ipython3",
   "version": "3.11.9"
  }
 },
 "nbformat": 4,
 "nbformat_minor": 2
}
